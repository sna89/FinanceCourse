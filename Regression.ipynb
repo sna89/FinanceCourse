{
 "cells": [
  {
   "cell_type": "code",
   "execution_count": 1,
   "metadata": {},
   "outputs": [],
   "source": [
    "import pandas as pd\n",
    "import numpy as np\n",
    "import matplotlib.pyplot as plt\n",
    "\n",
    "daily_treasury_yield_curve_rate_df = pd.read_csv('daily_treasury_yield_curve_rate.csv',\n",
    "                                                 parse_dates=['Date'], index_col='Date')"
   ]
  },
  {
   "cell_type": "code",
   "execution_count": 2,
   "metadata": {},
   "outputs": [],
   "source": [
    "PERIODS = ['3 Mo','1 Yr','5 Yr','10 Yr','30 Yr']\n",
    "FONT_SIZE = 10\n",
    "FIGSIZE = (10,5)\n",
    "START_DATE='1990-01-01'\n",
    "END_DATE = '2016-01-01'"
   ]
  },
  {
   "cell_type": "code",
   "execution_count": 3,
   "metadata": {},
   "outputs": [],
   "source": [
    "def prepare_data(df, interest_periods, data_source,\n",
    "                 start_date='1990-01-01', end_date = '2020-01-01',\n",
    "                 fill=False, add_freq=False, freq='3m'):\n",
    "    \n",
    "    if data_source == 'yield':\n",
    "        data = df[interest_periods]\n",
    "    elif data_source == 'baa10y':\n",
    "        data = df[interest_periods]\n",
    "        data = data.replace('.',np.nan)\n",
    "        data = data.dropna()\n",
    "        data = data.astype(float)\n",
    "        \n",
    "    data = data.loc[start_date:end_date]\n",
    "    data = data.sort_index(axis=0)\n",
    "\n",
    "    if add_freq:\n",
    "        data = data.asfreq(freq=freq)\n",
    "\n",
    "    if fill:\n",
    "        data = data.fillna(method='ffill')\n",
    "\n",
    "    return data"
   ]
  },
  {
   "cell_type": "markdown",
   "metadata": {},
   "source": [
    "# Regression - next day prediction"
   ]
  },
  {
   "cell_type": "markdown",
   "metadata": {},
   "source": [
    "# Features"
   ]
  },
  {
   "cell_type": "code",
   "execution_count": 14,
   "metadata": {},
   "outputs": [],
   "source": [
    "def prepare_features(data,prediction_time):\n",
    "    rolling_avg_week = data.rolling(window=7).mean()\n",
    "    rolling_avg_month = data.rolling(window=30).mean()\n",
    "    rolling_avg_year = data.rolling(window=365).mean()\n",
    "    rolling_std_week = data.rolling(window=7).std()\n",
    "    rolling_std_month = data.rolling(window=30).std()\n",
    "    rolling_std_year = data.rolling(window=365).std()\n",
    "    shift_1 = data.shift(1)\n",
    "    shift_2 = data.shift(2)\n",
    "    shift_3 = data.shift(3)\n",
    "    shift_4 = data.shift(4)\n",
    "    shift_5 = data.shift(5)\n",
    "    shift_6 = data.shift(6)\n",
    "    shift_7 = data.shift(7)\n",
    "    y = data.shift(-prediction_time)\n",
    "\n",
    "    data = pd.DataFrame(data={'current_day':data.values,\n",
    "                            'rolling_avg_week':rolling_avg_week,\n",
    "                             'rolling_avg_month':rolling_avg_month,\n",
    "                             'rolling_avg_year':rolling_avg_year,\n",
    "                             'rolling_std_week':rolling_std_week,\n",
    "                             'rolling_std_month':rolling_std_month,\n",
    "                             'rolling_std_year':rolling_std_year,\n",
    "                             'y':y}\n",
    "                        ,index = data.index)\n",
    "    data = data.dropna()\n",
    "    return data"
   ]
  },
  {
   "cell_type": "code",
   "execution_count": 19,
   "metadata": {
    "scrolled": false
   },
   "outputs": [
    {
     "name": "stdout",
     "output_type": "stream",
     "text": [
      "0.4108551115492863\n",
      "[ 0.02082776 -0.08802922  0.47529901 -0.68749925 -1.55919508 -1.41095708\n",
      " -1.30106267]\n",
      "5.488047796213989\n",
      "[ 0.06333679 -0.38755276  0.78063619 -0.69850797 -0.81425059  0.19334418\n",
      " -1.16573066]\n",
      "4.025414240400022\n",
      "[ 0.63534139  0.22120487 -0.60186361 -0.41948835 -0.1999534  -1.07186462\n",
      " -2.36968818]\n",
      "10.050176585696759\n",
      "[ 1.17922749  1.00733131 -1.6188813  -0.32592975  0.44677573  0.45100547\n",
      " -1.62530663]\n",
      "2.5450651160889457\n",
      "[ 1.49483511  1.41323531 -2.16791853 -0.24235938 -0.27395183 -0.14350536\n",
      " -0.8371152 ]\n"
     ]
    }
   ],
   "source": [
    "from sklearn.model_selection import TimeSeriesSplit\n",
    "from sklearn.linear_model import LinearRegression\n",
    "import matplotlib.pyplot as plt\n",
    "from sklearn.metrics import mean_squared_error\n",
    "\n",
    "data = prepare_data(daily_treasury_yield_curve_rate_df, interest_periods=PERIODS[0], data_source='yield')\n",
    "prediction_time=365\n",
    "data = prepare_features(data,prediction_time)\n",
    "train, test = data.iloc[:-prediction_time],data.iloc[-prediction_time:]\n",
    "X = train.drop(columns=['y'])\n",
    "y = train['y']\n",
    "\n",
    "tscv = TimeSeriesSplit(n_splits=5)\n",
    "for train_index, val_index in tscv.split(X):\n",
    "    X_train, X_val = X.iloc[train_index], X.iloc[val_index]\n",
    "    y_train, y_val = y.iloc[train_index], y.iloc[val_index]\n",
    "    reg = LinearRegression().fit(X_train, y_train)\n",
    "    print(mean_squared_error(y_val,reg.predict(X_val)))\n",
    "    print(reg.coef_)"
   ]
  },
  {
   "cell_type": "code",
   "execution_count": null,
   "metadata": {},
   "outputs": [],
   "source": [
    "\n",
    "\n",
    "    \n"
   ]
  },
  {
   "cell_type": "code",
   "execution_count": null,
   "metadata": {},
   "outputs": [],
   "source": []
  },
  {
   "cell_type": "code",
   "execution_count": null,
   "metadata": {},
   "outputs": [],
   "source": []
  }
 ],
 "metadata": {
  "kernelspec": {
   "display_name": "Python 3",
   "language": "python",
   "name": "python3"
  },
  "language_info": {
   "codemirror_mode": {
    "name": "ipython",
    "version": 3
   },
   "file_extension": ".py",
   "mimetype": "text/x-python",
   "name": "python",
   "nbconvert_exporter": "python",
   "pygments_lexer": "ipython3",
   "version": "3.6.5"
  }
 },
 "nbformat": 4,
 "nbformat_minor": 2
}
