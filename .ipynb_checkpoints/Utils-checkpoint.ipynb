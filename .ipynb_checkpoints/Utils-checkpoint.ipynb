{
 "cells": [
  {
   "cell_type": "code",
   "execution_count": 1,
   "metadata": {},
   "outputs": [],
   "source": [
    "import pandas as pd\n",
    "import numpy as np\n",
    "import matplotlib.pyplot as plt\n",
    "from statsmodels.tsa.seasonal import seasonal_decompose\n",
    "from statsmodels.tsa.stattools import adfuller"
   ]
  },
  {
   "cell_type": "code",
   "execution_count": null,
   "metadata": {},
   "outputs": [],
   "source": [
    "daily_treasury_yield_curve_rate_df = pd.read_csv('daily_treasury_yield_curve_rate.csv',\n",
    "                                                 parse_dates=['Date'], index_col='Date')\n",
    "baa10y_df = pd.read_csv('BAA10Y.csv', parse_dates=['DATE'], index_col='DATE')"
   ]
  },
  {
   "cell_type": "code",
   "execution_count": null,
   "metadata": {},
   "outputs": [],
   "source": [
    "def prepare_data(df, interest_periods, data_source,\n",
    "                 start_date='1990-01-01', end_date = '2020-01-01',\n",
    "                 fill=False, add_freq=False, freq='3m'):\n",
    "    \n",
    "    if data_source == 'yield':\n",
    "        data = df[interest_periods]\n",
    "    elif data_source == 'baa10y':\n",
    "        data = df[interest_periods]\n",
    "        data = data.replace('.',np.nan)\n",
    "        data = data.dropna()\n",
    "        data = data.astype(float)\n",
    "        \n",
    "    data = data.loc[start_date:end_date]\n",
    "    data = data.sort_index(axis=0)\n",
    "\n",
    "    if add_freq:\n",
    "        data = data.asfreq(freq=freq)\n",
    "\n",
    "    if fill:\n",
    "        data = data.fillna(method='ffill')\n",
    "        \n",
    "    return data"
   ]
  },
  {
   "cell_type": "code",
   "execution_count": 2,
   "metadata": {},
   "outputs": [],
   "source": [
    "PERIODS = ['3 Mo','1 Yr','5 Yr','10 Yr','30 Yr']\n",
    "\n",
    "def create_data_df(use, start_date, end_date):\n",
    "    data_df = pd.DataFrame()\n",
    "    for period in PERIODS:\n",
    "        if use == 'std':\n",
    "            data = prepare_data(daily_treasury_yield_curve_rate_df, \n",
    "                                interest_periods=period,\n",
    "                                data_source='yield',\n",
    "                                start_date=start_date,\n",
    "                                end_date=end_date)\n",
    "        elif use == 'seasonal_decompose':\n",
    "            data = prepare_data(daily_treasury_yield_curve_rate_df,\n",
    "                        interest_periods=period,\n",
    "                        data_source='yield',\n",
    "                        start_date=start_date,\n",
    "                        end_date=end_date,\n",
    "                        fill=True, add_freq=True, freq='3m')\n",
    "        elif use == 'adfuller' or use == 'dataset':\n",
    "            data = prepare_data(daily_treasury_yield_curve_rate_df,\n",
    "                        interest_periods=period,\n",
    "                        data_source='yield',\n",
    "                        start_date=start_date,\n",
    "                        end_date=end_date,\n",
    "                        fill=True)\n",
    "        data_df = add_data_to_df(data_df, period, data)\n",
    "    if use == 'std':\n",
    "        data = prepare_data(baa10y_df, \n",
    "                            interest_periods='BAA10Y', \n",
    "                            data_source='baa10y',\n",
    "                            start_date=start_date, \n",
    "                            end_date=end_date)\n",
    "    elif use == 'seasonal_decompose':\n",
    "        data = prepare_data(baa10y_df,\n",
    "                        interest_periods='BAA10Y',\n",
    "                        data_source='baa10y',\n",
    "                        start_date=start_date,\n",
    "                        end_date=end_date,\n",
    "                        fill=True, add_freq=True, freq='3m')\n",
    "    elif use == 'adfuller' or use == 'dataset':\n",
    "        data = prepare_data(baa10y_df,\n",
    "                    interest_periods='BAA10Y',\n",
    "                    data_source='baa10y',\n",
    "                    start_date=start_date,\n",
    "                    end_date=end_date,\n",
    "                    fill=True)\n",
    "    data_df = add_data_to_df(data_df, 'BAA10Y', data)\n",
    "    \n",
    "    return data_df"
   ]
  },
  {
   "cell_type": "code",
   "execution_count": 3,
   "metadata": {},
   "outputs": [],
   "source": [
    "def add_data_to_df(df, header, data):\n",
    "    df_to_add = pd.DataFrame(data={header: data})\n",
    "    df = pd.concat([df, df_to_add], axis=1)\n",
    "    return df\n",
    "\n",
    "def add_column_to_df(df,header, data):\n",
    "    cols = df.shape[1]\n",
    "    df.insert(cols, header, data)\n",
    "    return df"
   ]
  },
  {
   "cell_type": "code",
   "execution_count": 4,
   "metadata": {},
   "outputs": [],
   "source": [
    "def old_plot_data(data, xlabel='', ylabel='', title=''):\n",
    "    plt.figure(figsize=FIGSIZE)\n",
    "    ax = plt.axes()\n",
    "    ax.tick_params(axis='both', labelsize=FONT_SIZE)\n",
    "    plt.xlabel(xlabel, fontdict={'size':FONT_SIZE})\n",
    "    plt.ylabel(ylabel)\n",
    "    plt.title(title)\n",
    "    data.plot()\n",
    "    \n",
    "def plot_data(df, title):\n",
    "    shape = df.shape[1]\n",
    "    if shape%2==0:\n",
    "        nrows=int(shape/2)\n",
    "        ncols=2\n",
    "    elif shape%3==0:\n",
    "        nrows=int(shape/3)\n",
    "        ncols=3\n",
    "    else:\n",
    "        nrows=shape\n",
    "        ncols=1\n",
    "    fig, axes = plt.subplots(nrows=nrows, ncols=ncols, dpi=120, figsize=(10,6))\n",
    "    for i, ax in enumerate(axes.flatten()):\n",
    "        data = df[df.columns[i]]\n",
    "        ax.plot(data, linewidth=1)\n",
    "    # Decorations\n",
    "        ax.set_title(title + ' of ' + df.columns[i])\n",
    "        ax.xaxis.set_ticks_position('none')\n",
    "        ax.yaxis.set_ticks_position('none')\n",
    "        ax.spines[\"top\"].set_alpha(0)\n",
    "        ax.tick_params(labelsize=6)\n",
    "    plt.tight_layout();"
   ]
  },
  {
   "cell_type": "code",
   "execution_count": 5,
   "metadata": {},
   "outputs": [],
   "source": [
    "def decompose(start_date, end_date):\n",
    "    trend_df = pd.DataFrame()\n",
    "    seasonal_df = pd.DataFrame()\n",
    "    data_df = create_data_df(use='seasonal_decompose', start_date=start_date, end_date=end_date) \n",
    "\n",
    "    for name, series in data_df.iteritems():\n",
    "        result = seasonal_decompose(series, model='additive')\n",
    "        trend_df = add_data_to_df(trend_df, name, result.trend)\n",
    "        seasonal_df = add_data_to_df(seasonal_df, name, result.seasonal)\n",
    "\n",
    "    plot_data(trend_df, 'Trend')\n",
    "    plot_data(seasonal_df, 'Seasonality')"
   ]
  },
  {
   "cell_type": "code",
   "execution_count": 6,
   "metadata": {},
   "outputs": [],
   "source": [
    "def test_stationarity(df):\n",
    "    df_stationary = True\n",
    "    for name, series in df.iteritems():\n",
    "        result = adfuller(series.values)\n",
    "        p_value = result[1]\n",
    "\n",
    "        print('p-value for period {period} is: {p_value}'.format(period=name, p_value=p_value))\n",
    "        if p_value <= 0.05:\n",
    "            print('Time series of no risk interest for {period} is stationary with no unit root\\n'.\n",
    "                  format(period=name))\n",
    "        else:\n",
    "            print('Time series of no risk interest for {period} is not stationary and there is a unit root\\n'.\n",
    "                  format(period=name))\n",
    "            df_stationary = False\n",
    "    \n",
    "    if df_stationary:\n",
    "        print('All time series in df are stationary')\n",
    "    else:\n",
    "        print('Not all time series in df are stationary')"
   ]
  },
  {
   "cell_type": "code",
   "execution_count": 7,
   "metadata": {},
   "outputs": [],
   "source": [
    "def transfrom_from_stationary(stationary_df, train_sample):\n",
    "    df = pd.DataFrame()\n",
    "    for col in stationary_df.columns:\n",
    "        df[col] = train_sample[col] + stationary_df[col].cumsum()\n",
    "    return df"
   ]
  },
  {
   "cell_type": "code",
   "execution_count": 8,
   "metadata": {},
   "outputs": [],
   "source": [
    "def plot_prediction(forecast_df, test_df, train_sample,chosen_columns=None):\n",
    "    forecast_df = transfrom_from_stationary(forecast_df, train_sample)\n",
    "    if chosen_columns is None:\n",
    "        chosen_columns = forecast_df.columns\n",
    "    for col in chosen_columns:\n",
    "        _df = pd.concat([forecast_df[col], test_df[col]], axis=1)\n",
    "        _df.columns = ['prediction {}'.format(col), 'actual {}'.format(col)]\n",
    "        _df.plot()"
   ]
  },
  {
   "cell_type": "code",
   "execution_count": 9,
   "metadata": {},
   "outputs": [],
   "source": [
    "from sklearn.metrics import mean_squared_error\n",
    "\n",
    "def evaluate(forecast_df, test_df, chosen_columns=None, train_sample=None):\n",
    "    forecast_df = transfrom_from_stationary(forecast_df, train_sample)\n",
    "    if chosen_columns is None:\n",
    "        chosen_columns = forecast_df.columns\n",
    "    for col in chosen_columns:\n",
    "        print('{col} mse: {mse}: '.format(col=col, mse=mean_squared_error(forecast_df[col], test_df[col])))"
   ]
  }
 ],
 "metadata": {
  "kernelspec": {
   "display_name": "Python 3",
   "language": "python",
   "name": "python3"
  },
  "language_info": {
   "codemirror_mode": {
    "name": "ipython",
    "version": 3
   },
   "file_extension": ".py",
   "mimetype": "text/x-python",
   "name": "python",
   "nbconvert_exporter": "python",
   "pygments_lexer": "ipython3",
   "version": "3.6.5"
  }
 },
 "nbformat": 4,
 "nbformat_minor": 2
}
